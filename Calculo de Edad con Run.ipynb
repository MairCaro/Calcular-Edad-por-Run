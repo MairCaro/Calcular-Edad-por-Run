{
 "cells": [
  {
   "cell_type": "markdown",
   "id": "a971d68d",
   "metadata": {},
   "source": [
    "### Planteamiento del problema\n",
    "\n",
    "En el dia a dia, es comun trabajar con bases de datos incompletas, e infomación básica como la edad o fecha de nacimiento de los individuos resulta importante para llevar a cabo diversos análisis estadísticos. \n",
    "\n",
    "Por otra parte en Chile, cada ciudadano cuenta con un Rol unico nacional (Run) que se asigna al momento de la inscripción en el registro civil. Este consta de 2 partes: Por un lado un numero entero que se crea en forma ascendente y no correlativa, a través de un algoritmo. Y por otra un digito verificador que utiliza los digitos del 0 al 9 y la letra \"K\" que representa al numero 11 y que permite validar dicho conjunto de caracteres como un Run generado por el Registro Civil. \n",
    "\n",
    "Dado que la inscripción en el registro Civil se historicamente en fechas cercanas al nacimiento de cada individuo, es esperable una correlacion entre el componente entero del Run y la edad de cada individuo. Con la excepción de los ciudadanos migrantes a quienes se les asigna un Run, no correlativo y que normalmente es cerca de 10 millones mayor al de los Run generados para los ciudadanos nacidos en chile. Si se tienen nociones de las nacionalidades de los ciudadanos, esto permitiría mejorar la calidad de los datos y facilitar el análisis estadistico de bases incompletas. \n",
    "\n",
    "#### Obtención de los Datos\n",
    "\n",
    "Para el analisis se realizó una busqueda manual en Google, utilizando herramientas de busqueda avanzada para archivos .pdf y .xlsx que contuvieran tanto el Run, como fecha de nacimiento de ciudadanos chilenos.Se identificaron <b>2087</b> Run con sus respectivas fechas de nacimiento. Los datos fueron importados y consolidados mediante Microsoft Excel e importados a R para su procesamiento. Dado que el Run corresponde a un dato identificatorio, no se disponibilizará la base de datos para este proyecto. "
   ]
  },
  {
   "cell_type": "markdown",
   "id": "2edf7252",
   "metadata": {},
   "source": [
    "### Procesamiento en R\n",
    "Comenzamos importando las librerias a utilizar. "
   ]
  },
  {
   "cell_type": "code",
   "execution_count": 1,
   "id": "b368691e",
   "metadata": {
    "scrolled": true
   },
   "outputs": [
    {
     "name": "stderr",
     "output_type": "stream",
     "text": [
      "── \u001b[1mAttaching packages\u001b[22m ─────────────────────────────────────────────────────────────────────────────── tidyverse 1.3.2 ──\n",
      "\u001b[32m✔\u001b[39m \u001b[34mggplot2\u001b[39m 3.4.0      \u001b[32m✔\u001b[39m \u001b[34mpurrr  \u001b[39m 0.3.5 \n",
      "\u001b[32m✔\u001b[39m \u001b[34mtibble \u001b[39m 3.1.8      \u001b[32m✔\u001b[39m \u001b[34mdplyr  \u001b[39m 1.0.10\n",
      "\u001b[32m✔\u001b[39m \u001b[34mtidyr  \u001b[39m 1.2.1      \u001b[32m✔\u001b[39m \u001b[34mstringr\u001b[39m 1.5.0 \n",
      "\u001b[32m✔\u001b[39m \u001b[34mreadr  \u001b[39m 2.1.3      \u001b[32m✔\u001b[39m \u001b[34mforcats\u001b[39m 0.5.2 \n",
      "── \u001b[1mConflicts\u001b[22m ────────────────────────────────────────────────────────────────────────────────── tidyverse_conflicts() ──\n",
      "\u001b[31m✖\u001b[39m \u001b[34mdplyr\u001b[39m::\u001b[32mfilter()\u001b[39m masks \u001b[34mstats\u001b[39m::filter()\n",
      "\u001b[31m✖\u001b[39m \u001b[34mdplyr\u001b[39m::\u001b[32mlag()\u001b[39m    masks \u001b[34mstats\u001b[39m::lag()\n",
      "Loading required package: timechange\n",
      "\n",
      "\n",
      "Attaching package: 'lubridate'\n",
      "\n",
      "\n",
      "The following objects are masked from 'package:base':\n",
      "\n",
      "    date, intersect, setdiff, union\n",
      "\n",
      "\n",
      "\n",
      "Attaching package: 'scales'\n",
      "\n",
      "\n",
      "The following object is masked from 'package:purrr':\n",
      "\n",
      "    discard\n",
      "\n",
      "\n",
      "The following object is masked from 'package:readr':\n",
      "\n",
      "    col_factor\n",
      "\n",
      "\n"
     ]
    }
   ],
   "source": [
    "library(tidyverse) #importamos el \"pipeline\", así como dplyr la que incorpora funciones como mutate() para la transformación de datos. \n",
    "library(lubridate) #Librería para la manipulacion de datos correspondientes a fechas. \n",
    "library(readxl)  #libreria para importar archivos desde Microsoft Excel y para la creación de archivos .xlsx\n",
    "library(scales)  #libreria que usada en conjunto con ggplot, permite dar formato a los ejes de los graficos a generar."
   ]
  },
  {
   "cell_type": "code",
   "execution_count": 29,
   "id": "ac3593f9",
   "metadata": {},
   "outputs": [],
   "source": [
    "data<-readxl::read_xlsx(path=\"Datos/Datos_run_edad.xlsx\",sheet=\"Run\")"
   ]
  },
  {
   "cell_type": "code",
   "execution_count": 33,
   "id": "5c040561",
   "metadata": {},
   "outputs": [
    {
     "name": "stdout",
     "output_type": "stream",
     "text": [
      "[1] \"Correlacion entre Run y Edad\"\n"
     ]
    },
    {
     "data": {
      "text/html": [
       "-0.987355932431387"
      ],
      "text/latex": [
       "-0.987355932431387"
      ],
      "text/markdown": [
       "-0.987355932431387"
      ],
      "text/plain": [
       "[1] -0.9873559"
      ]
     },
     "metadata": {},
     "output_type": "display_data"
    },
    {
     "name": "stdout",
     "output_type": "stream",
     "text": [
      "[1] \"Correlacion entre Run y Año de nacimiento\"\n"
     ]
    },
    {
     "data": {
      "text/html": [
       "0.987348433131315"
      ],
      "text/latex": [
       "0.987348433131315"
      ],
      "text/markdown": [
       "0.987348433131315"
      ],
      "text/plain": [
       "[1] 0.9873484"
      ]
     },
     "metadata": {},
     "output_type": "display_data"
    }
   ],
   "source": [
    "\n",
    "#Tomamos unicamente las columnas Run y Fecha de nacimiento y realizamos el calculo de la edad\n",
    "data<-data[c(\"Run\",\"Fecha_nacimiento\")] %>% \n",
    "  dplyr::mutate(Edad=floor((Fecha_nacimiento %--% today()) / years(1)))\n",
    "#Evaluamos la correlación entre el Run y ambas variables.\n",
    "print(\"Correlacion entre Run y Edad\")\n",
    "cor(x=data$Run, y=data$Edad) \n",
    "print(\"Correlacion entre Run y Año de nacimiento\")\n",
    "cor(x=data$Run, y=year(data$Fecha_nacimiento))"
   ]
  },
  {
   "cell_type": "markdown",
   "id": "b2f23667",
   "metadata": {},
   "source": [
    "<li>Observamos una fuerte correlacion negativa entre Run y edad, cercana a -1 (-0.9873).</li>\n",
    "<li>Observamos una fuerte correlacion positiva entre Run y Año de nacimiento, cercana a 1 (0.9873).</li>\n",
    "\n",
    "Graficamos ambas variables para apreciar mas claramente dicha relación. "
   ]
  },
  {
   "cell_type": "code",
   "execution_count": 34,
   "id": "0b82a38b",
   "metadata": {},
   "outputs": [
    {
     "data": {
      "image/png": "[encoded data removed]",
      "text/plain": [
       "plot without title"
      ]
     },
     "metadata": {
      "image/png": {
       "height": 420,
       "width": 420
      }
     },
     "output_type": "display_data"
    },
    {
     "data": {
      "image/png": "[encoded data removed]",
      "text/plain": [
       "plot without title"
      ]
     },
     "metadata": {
      "image/png": {
       "height": 420,
       "width": 420
      }
     },
     "output_type": "display_data"
    }
   ],
   "source": [
    "ggplot(data=data, aes(x=Run, y=Edad))+\n",
    "    geom_point()+\n",
    "   scale_x_continuous(\"Run\",labels = scales::label_number(scale_cut = scales::cut_short_scale()))\n",
    "\n",
    "ggplot(data=data, aes(x=Run, y=year(Fecha_nacimiento)))+\n",
    "    geom_point()+\n",
    "   scale_x_continuous(\"Run\",labels = scales::label_number(scale_cut = scales::cut_short_scale()))+\n",
    "    labs(y=\"Año Nacimiento\")"
   ]
  },
  {
   "cell_type": "markdown",
   "id": "37958369",
   "metadata": {},
   "source": [
    "*observamos algunos outliers en en aquellas personas con Run>20M quienes provablemente correspondan a ciudadanos migrantes. \n",
    "\n",
    "Dada la distribución observada, planteamos un modelo de regresion lineal simple dado que estudiamos la correlacion entre 2 variables."
   ]
  },
  {
   "cell_type": "code",
   "execution_count": 35,
   "id": "e38a7f89",
   "metadata": {},
   "outputs": [
    {
     "data": {
      "text/plain": [
       "\n",
       "Call:\n",
       "lm(formula = Edad ~ Run, data = data)\n",
       "\n",
       "Residuals:\n",
       "    Min      1Q  Median      3Q     Max \n",
       "-29.489  -1.183  -0.113   1.302  44.115 \n",
       "\n",
       "Coefficients:\n",
       "              Estimate Std. Error t value Pr(>|t|)    \n",
       "(Intercept)  9.170e+01  1.216e-01   754.3   <2e-16 ***\n",
       "Run         -3.377e-06  1.021e-08  -330.6   <2e-16 ***\n",
       "---\n",
       "Signif. codes:  0 '***' 0.001 '**' 0.01 '*' 0.05 '.' 0.1 ' ' 1\n",
       "\n",
       "Residual standard error: 3.053 on 2817 degrees of freedom\n",
       "Multiple R-squared:  0.9749,\tAdjusted R-squared:  0.9749 \n",
       "F-statistic: 1.093e+05 on 1 and 2817 DF,  p-value: < 2.2e-16\n"
      ]
     },
     "metadata": {},
     "output_type": "display_data"
    }
   ],
   "source": [
    "modelo<-lm(Edad ~ Run, data=data)\n",
    "\n",
    "summary(modelo)"
   ]
  },
  {
   "cell_type": "markdown",
   "id": "7d011cc7",
   "metadata": {},
   "source": [
    "En base al resumen del modelo se establece la ecuación para la recta ajustada a la muestra como:\n",
    "#### Edad = 9.170e+01 -3.377e-06 * Run\n",
    "con un valor p de <0.05. Lo que determina que es muy poco probable que la distribucion de la muestra se deba al azar. "
   ]
  },
  {
   "cell_type": "code",
   "execution_count": 40,
   "id": "4dedef81",
   "metadata": {},
   "outputs": [
    {
     "name": "stderr",
     "output_type": "stream",
     "text": [
      "\u001b[1m\u001b[22m`geom_smooth()` using formula = 'y ~ x'\n"
     ]
    },
    {
     "data": {
      "image/png": "[encoded data removed]",
      "text/plain": [
       "plot without title"
      ]
     },
     "metadata": {
      "image/png": {
       "height": 420,
       "width": 420
      }
     },
     "output_type": "display_data"
    }
   ],
   "source": [
    "#Visualizamos la recta obtenida por la regresion lineal\n",
    "ggplot(data=data, aes(x=Run, y=Edad))+\n",
    "    geom_point()+\n",
    "   scale_x_continuous(\"Run\",labels = scales::label_number(scale_cut = scales::cut_short_scale()))+\n",
    "    geom_smooth(method=\"lm\", color=\"red\")\n"
   ]
  },
  {
   "cell_type": "markdown",
   "id": "b508465c",
   "metadata": {},
   "source": [
    "Utilizaremos el modelo obtenido para predecir la edad de algunos Run."
   ]
  },
  {
   "cell_type": "code",
   "execution_count": 41,
   "id": "cb846cbd",
   "metadata": {},
   "outputs": [
    {
     "data": {
      "text/html": [
       "<table class=\"dataframe\">\n",
       "<caption>A data.frame: 3 × 2</caption>\n",
       "<thead>\n",
       "\t<tr><th scope=col>Run</th><th scope=col>Edad</th></tr>\n",
       "\t<tr><th scope=col>&lt;dbl&gt;</th><th scope=col>&lt;dbl&gt;</th></tr>\n",
       "</thead>\n",
       "<tbody>\n",
       "\t<tr><td>16093705</td><td>37</td></tr>\n",
       "\t<tr><td>18907185</td><td>27</td></tr>\n",
       "\t<tr><td>17031040</td><td>34</td></tr>\n",
       "</tbody>\n",
       "</table>\n"
      ],
      "text/latex": [
       "A data.frame: 3 × 2\n",
       "\\begin{tabular}{ll}\n",
       " Run & Edad\\\\\n",
       " <dbl> & <dbl>\\\\\n",
       "\\hline\n",
       "\t 16093705 & 37\\\\\n",
       "\t 18907185 & 27\\\\\n",
       "\t 17031040 & 34\\\\\n",
       "\\end{tabular}\n"
      ],
      "text/markdown": [
       "\n",
       "A data.frame: 3 × 2\n",
       "\n",
       "| Run &lt;dbl&gt; | Edad &lt;dbl&gt; |\n",
       "|---|---|\n",
       "| 16093705 | 37 |\n",
       "| 18907185 | 27 |\n",
       "| 17031040 | 34 |\n",
       "\n"
      ],
      "text/plain": [
       "  Run      Edad\n",
       "1 16093705 37  \n",
       "2 18907185 27  \n",
       "3 17031040 34  "
      ]
     },
     "metadata": {},
     "output_type": "display_data"
    }
   ],
   "source": [
    "predecir<-data.frame(Run=c(16093705,18907185, 17031040)) \n",
    "predecir<-predecir %>% \n",
    "  mutate(Edad=floor(predict(modelo, newdata = predecir)))\n",
    "\n",
    "predecir"
   ]
  },
  {
   "cell_type": "markdown",
   "id": "479cb416",
   "metadata": {},
   "source": [
    "Finalmente graficamos los puntos predichos."
   ]
  },
  {
   "cell_type": "code",
   "execution_count": 42,
   "id": "6db6fde1",
   "metadata": {},
   "outputs": [
    {
     "name": "stderr",
     "output_type": "stream",
     "text": [
      "\u001b[1m\u001b[22m`geom_smooth()` using formula = 'y ~ x'\n"
     ]
    },
    {
     "data": {
      "image/png": "[encoded data removed]",
      "text/plain": [
       "plot without title"
      ]
     },
     "metadata": {
      "image/png": {
       "height": 420,
       "width": 420
      }
     },
     "output_type": "display_data"
    }
   ],
   "source": [
    "ggplot(data=data,aes(x=Run, y=Edad))+\n",
    "  scale_x_continuous(\"Run\",labels = scales::label_number(scale_cut = scales::cut_short_scale()))+\n",
    "geom_point(alpha=0.3)+\n",
    "geom_smooth(method=\"lm\", color=\"red\")+\n",
    "  labs(title=\"Predicción del año de nacimiento por Run\", \n",
    "       x=\"Run\", \n",
    "       y=\"Edad\"\n",
    "       )+\n",
    "geom_point(data=predecir,aes(Run, Edad), color=\"green\", size=4, shape=17)"
   ]
  },
  {
   "cell_type": "markdown",
   "id": "66832076",
   "metadata": {},
   "source": [
    "Por tanto podemos concluir que podremos inferir la edad en ciudadanos Chilenos en base a su run aplicando la formula anteriormente descrita, agregamos la resta del año 2023 (en que se realiza el calculo) al año actual para ajustar la formula al paso del tiempo lo que nos deja:\n",
    "<br>\n",
    "#### Edad = 9.170e+01 + 2023 - (year(today()) - 3.377e-06 * Run"
   ]
  }
 ],
 "metadata": {
  "kernelspec": {
   "display_name": "R",
   "language": "R",
   "name": "ir"
  },
  "language_info": {
   "codemirror_mode": "r",
   "file_extension": ".r",
   "mimetype": "text/x-r-source",
   "name": "R",
   "pygments_lexer": "r",
   "version": "4.2.2"
  }
 },
 "nbformat": 4,
 "nbformat_minor": 5
}
